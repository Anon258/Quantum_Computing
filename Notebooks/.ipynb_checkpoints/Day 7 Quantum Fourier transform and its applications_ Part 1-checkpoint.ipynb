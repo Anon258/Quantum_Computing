{
 "cells": [
  {
   "cell_type": "markdown",
   "metadata": {
    "colab_type": "text",
    "id": "iU0wkViC72Jx"
   },
   "source": [
    "# Quantum Fourier transform and its applications: Part 1\n",
    "\n",
    "*A good idea has a way of becoming simpler and solving problems other than that for which it was intended.*  \n",
    "– Robert Tarjan"
   ]
  },
  {
   "cell_type": "code",
   "execution_count": 1,
   "metadata": {
    "colab": {},
    "colab_type": "code",
    "id": "b4txSM5S72Jy",
    "scrolled": true
   },
   "outputs": [],
   "source": [
    "from qiskit import *\n",
    "from qiskit.compiler import *\n",
    "from qiskit.tools.jupyter import *\n",
    "from qiskit.visualization import *\n",
    "import matplotlib.pyplot as plotter\n",
    "import scipy\n",
    "import numpy as np\n",
    "from IPython.display import display, Math, Latex\n",
    "import qiskit.quantum_info as qi\n",
    "%matplotlib inline\n",
    "# Loading your IBM Q account(s)\n",
    "provider = IBMQ.load_account()"
   ]
  },
  {
   "cell_type": "markdown",
   "metadata": {
    "colab_type": "text",
    "id": "_6eNQ3QD72J2"
   },
   "source": [
    "You may heard about the **discrete Fourier transform (DFT)**. In the usual mathematical notation, the discrete Fourier transform takes as input a vector of complex numbers, $x_0,\\ldots,x_{N-1}$ where the length $N$ of the vector is a ﬁxed parameter. It outputs the transformed data, a vector of complex numbers $y_0,\\ldots,y_{N-1}$, deﬁned by\n",
    "$$ y_k \\equiv \\frac{1}{\\sqrt{N}} \\sum^{N-1}_{j=0} x_j e^{\\frac{2\\pi i j k }{N}} $$ \n",
    "\n",
    "The **quantum Fourier transform** is exactly the same transformation, although the conventional notation for the quantum Fourier transform is somewhat different. The quantum Fourier transform on an orthonormal basis $|0\\rangle,\\ldots, |N-1\\rangle$ is deﬁned to be a linear operator with the following action on the basis states,\n",
    "$$|j\\rangle \\to \\frac{1}{\\sqrt{N}} \\sum^{N-1}_{k=0}  e^{\\frac{2\\pi i j k}{N}} |k\\rangle$$\n",
    "Equivalently, the action on an arbitrary state may be written,\n",
    "$$ \\sum_{j=0}^{N-1} x_j |j\\rangle \\to \\sum_{k=0}^{N-1} y_k |k\\rangle $$\n",
    "where the amplitudes $y_k$ are the discrete Fourier transform of the amplitudes $x_j$.\n",
    "We will show later that this is indeed an unitary transformation.  \n",
    "\n",
    "Now we will aim to derive the circuit for quantum Fourier transfom. But for that we can use the alternate representation of the transform. It is very helpful to write the state $|j\\rangle$ using the binary representation $j = j_1 j_2 \\ldots j_n$. More formally, $j = j_1 2^{n-1} + j_2 2^{n-2}+\\ldots+j_n 2^0$. It is also convenient to adopt the notation $0 . j_l j_{l+1} \\ldots j_m$ to represent the binary fraction $j_l/2 + j_{l+1}/4+ \\ldots + j_m/2^{m-l+1}$.  using a little algebra the quantum Fourier transform can be given the following useful product representation: \n",
    "$$|j_1\\ldots j_n\\rangle \\to \\frac{(|0\\rangle + e^{2\\pi i 0.j_n}|1\\rangle)(|0\\rangle + e^{2\\pi i 0.j_{n-1}j_n}|1\\rangle) \\ldots (|0\\rangle + e^{2\\pi i 0.j_1j_2 \\ldots j_n}|1\\rangle)}{2^{\\frac{n}{2}}}$$\n",
    "We won't go into the derivation of this form, though you can verify it for some terms. This product representation is so useful that you may even wish to consider this to be the deﬁnition of the quantum Fourier transform. The product representation makes it easy to derive an efﬁcient circuit for the quantum Fourier transform. Let us define an unitary transformation $R_k$ used in the circuit diagram figure:\n",
    "$$R_ k  \\equiv \\left[ \\begin{matrix} 1 & 0\\\\\n",
    "0 &  e^{\\frac{2 \\pi i}{2^k}}\n",
    "\\end{matrix} \\right]$$  \n",
    "\n",
    "We can see the circuit diagram below for quantum fourier transform. we will apply the gates as shown to get the product representation mentioned above which implies the this is indeed a circuit for quantum fourier transform.\n",
    "   <img src = \"https://raw.githubusercontent.com/sachinpteli/personal/master/qft1.png\" height = '1000'      width = '1200'> </img>\n",
    "\n",
    "Do keep in mind that the swap gates at the end of the circuit which reverse the order of the qubits and normalization factors of $\\frac{1}{\\sqrt{2}}$ in the output are not shown in the figure to improve the readability.\n",
    "   \n",
    "So let's start to apply gates by following the figure.\n",
    "\n",
    "Notice that applying the Hadamard gate to the ﬁrst bit produces the state:\n",
    "$$\\frac{1}{2^{\\frac{1}{2}}}(|0\\rangle + e^{2\\pi i 0.j_1}|1\\rangle)|j_2 \\ldots  j_n\\rangle$$\n",
    "Applying the controlled-$R_2$ gate produces the state:\n",
    "$$\\frac{1}{2^{\\frac{1}{2}}}(|0\\rangle + e^{2\\pi i 0.j_1j_2}|1\\rangle)|j_2 \\ldots j_n\\rangle$$\n",
    "We continue applying the controlled-$R_3, R_4$ through $R_n$ gates, each of which adds an extra bit to the phase of the co-efﬁcient of the ﬁrst $|1\\rangle$. At the end of this procedure we have the state: \n",
    "$$\\frac{1}{2^{\\frac{1}{2}}}(|0\\rangle + e^{2\\pi i 0.j_1j_2 \\cdots j_n}|1\\rangle)|j_2 \\ldots  j_n\\rangle$$\n",
    "Next, we perform a similar procedure on the second qubit and after applying Hadamard and controlled-$R_2$ through $R_{n-1}$ gates yield the state:\n",
    "$$\\frac{1}{2^{\\frac{2}{2}}}(|0\\rangle + e^{2\\pi i 0.j_1j_2 \\cdots j_n}|1\\rangle)(|0\\rangle + e^{2\\pi i 0.j_2 \\cdots j_n}|1\\rangle)|j_3 \\ldots  j_n\\rangle$$\n",
    "We continue in this fashion for each qubit, giving a ﬁnal state :\n",
    "$$\\frac{1}{2^{\\frac{n}{2}}}(|0\\rangle + e^{2\\pi i 0.j_1j_2 \\cdots j_n}|1\\rangle)(|0\\rangle + e^{2\\pi i 0.j_2 \\cdots j_n}|1\\rangle) \\cdots (|0\\rangle + e^{2\\pi i 0.j_n}|1\\rangle)$$\n",
    "Swap operations which are omitted from Figure for clarity, are then used to reverse the order of the qubits. After the swap operations, the state of the qubits is:\n",
    "$$ \\frac{1}{2^{\\frac{n}{2}}}(|0\\rangle + e^{2\\pi i 0.j_n}|1\\rangle)(|0\\rangle + e^{2\\pi i 0.j_{n-1}j_n}|1\\rangle)\\cdots (|0\\rangle + e^{2\\pi i 0.j_1j_2 \\cdots j_n}|1\\rangle)$$\n",
    "\n",
    "\n",
    "Comparing with the earlier equation, we see that this is the desired output from the quantum Fourier transform. This construction also proves that the quantum Fourier transform is **unitary**, since each gate in the circuit is unitary.\n",
    "\n",
    "\n",
    "So this is a quite long process. Hence we will use <code>qft_rotations</code> and <code>swap_registers</code> to make <code>qft</code>, for your use. Go through the code to understand how it works.\n",
    " "
   ]
  },
  {
   "cell_type": "code",
   "execution_count": 2,
   "metadata": {
    "colab": {},
    "colab_type": "code",
    "id": "-IYxDzpn72J2"
   },
   "outputs": [
    {
     "data": {
      "image/png": "[encoded data removed]",
      "text/plain": [
       "<Figure size 1201.59x325.08 with 1 Axes>"
      ]
     },
     "execution_count": 2,
     "metadata": {},
     "output_type": "execute_result"
    }
   ],
   "source": [
    "\n",
    "def qft_rotations(circuit, n):\n",
    "    \"\"\"Performs qft on the first n qubits in circuit (without swaps)\"\"\"\n",
    "    if n == 0:\n",
    "        return circuit\n",
    "    n -= 1\n",
    "    circuit.h(n)\n",
    "    for qubit in range(n):\n",
    "        circuit.cu1(np.pi/2**(n-qubit), qubit, n)\n",
    "    qft_rotations(circuit, n)\n",
    "def swap_registers(circuit, n):\n",
    "    for qubit in range(n//2):\n",
    "        circuit.swap(qubit, n-qubit-1)\n",
    "    return circuit\n",
    "\n",
    "def qft(circuit, n):\n",
    "    \"\"\"QFT on the first n qubits in circuit\"\"\"\n",
    "    qft_rotations(circuit, n)\n",
    "    swap_registers(circuit, n)\n",
    "    return circuit\n",
    "\n",
    "# Let's see how it looks:\n",
    "qc = QuantumCircuit(4,4)\n",
    "qft(qc,4)\n",
    "qc.draw(output = 'mpl')"
   ]
  },
  {
   "cell_type": "markdown",
   "metadata": {
    "colab_type": "text",
    "id": "FY5qfFie72J5"
   },
   "source": [
    "Inverse of the quantum Fourier transform $QFT^\\dagger$ is perhaps more important than the $QFT$ in terms of its applications. We will see its use in very important problems which quantum computing solves exponentially faster than classical comupters."
   ]
  },
  {
   "cell_type": "code",
   "execution_count": 3,
   "metadata": {
    "colab": {},
    "colab_type": "code",
    "id": "lysTRO5m72J5"
   },
   "outputs": [
    {
     "name": "stdout",
     "output_type": "stream",
     "text": [
      "{'0000': 10000}\n"
     ]
    },
    {
     "data": {
      "image/png": "[encoded data removed]",
      "text/plain": [
       "<Figure size 504x360 with 1 Axes>"
      ]
     },
     "execution_count": 3,
     "metadata": {},
     "output_type": "execute_result"
    }
   ],
   "source": [
    "def inverse_qft(circuit, n):\n",
    "    \"\"\"Does the inverse QFT on the first n qubits in circuit\"\"\"\n",
    "    # First we create a QFT circuit of the correct size:\n",
    "    qft_circ = qft(QuantumCircuit(n), n)\n",
    "    # Then we take the inverse of this circuit\n",
    "    invqft_circ = qft_circ.inverse()\n",
    "    # And add it to the first n qubits in our existing circuit\n",
    "    circuit.append(invqft_circ, circuit.qubits[:n])\n",
    "    return circuit.decompose() # .decompose() allows us to see the individual gates\n",
    "\n",
    "qc = inverse_qft(qc,4)\n",
    "\n",
    "qc.measure(range(4),range(4))\n",
    "def run_circuit(qc):\n",
    "    backend = Aer.get_backend('qasm_simulator') # we choose the simulator as our backend\n",
    "    result = execute(qc, backend, shots = 10000).result() # we run the simulation\n",
    "    counts = result.get_counts() # we get the counts\n",
    "    return counts\n",
    "\n",
    "counts = run_circuit(qc)\n",
    "print(counts)\n",
    "plot_histogram(counts)\n",
    "# we should get the intial state '0000'"
   ]
  },
  {
   "cell_type": "markdown",
   "metadata": {
    "colab_type": "text",
    "id": "ox09CZEL72J7"
   },
   "source": [
    "##  Your task\n",
    "\n",
    "1) Given $QFT^n|x\\rangle = |x\\rangle$. Figure out $n$  by applying $QFT$ different number of times. Be careful and try for different initial values of qubits as sometimes a particular state may be the eigenstate for a lesser $n$ and thus misleading. Print $n$. "
   ]
  },
  {
   "cell_type": "code",
   "execution_count": 47,
   "metadata": {
    "colab": {},
    "colab_type": "code",
    "id": "Kt_g8UuD72J8"
   },
   "outputs": [
    {
     "name": "stdout",
     "output_type": "stream",
     "text": [
      "{'110': 10000}\n"
     ]
    },
    {
     "data": {
      "image/png": "[encoded data removed]",
      "text/plain": [
       "<Figure size 504x360 with 1 Axes>"
      ]
     },
     "execution_count": 47,
     "metadata": {},
     "output_type": "execute_result"
    }
   ],
   "source": [
    "qc1 = QuantumCircuit(3,3)\n",
    "qc1.x(1)\n",
    "qc1.cx(1,2)\n",
    "\n",
    "for i in range(4):# choose the number of times you want to do qft)\n",
    "    qft(qc1,3)\n",
    "\n",
    "qc1.measure(0,0)   \n",
    "qc1.measure(1,1)\n",
    "qc1.measure(2,2)\n",
    "def run_circuit(qc1):\n",
    "    backend = Aer.get_backend('qasm_simulator') # we choose the simulator as our backend\n",
    "    result = execute(qc1, backend, shots = 10000).result() # we run the simulation\n",
    "    counts = result.get_counts() # we get the counts\n",
    "    return counts\n",
    "\n",
    "counts = run_circuit(qc1)\n",
    "print(counts)\n",
    "plot_histogram(counts)"
   ]
  },
  {
   "cell_type": "markdown",
   "metadata": {
    "colab_type": "text",
    "id": "g0-92LPY72J-"
   },
   "source": [
    "2) Analyze the states and their amplitudes for different cases and find the untiary matrix associated with $QFT^2$. Try to use states whose amplitudes have a different modulus (unlike $\\frac{|0\\rangle + |1\\rangle}{\\sqrt{2}}$), otherwise you may not see a change. Do this for 2 qubits i.e. print the $4\\times4$ matrix as output."
   ]
  },
  {
   "cell_type": "code",
   "execution_count": 51,
   "metadata": {
    "colab": {},
    "colab_type": "code",
    "id": "-l6ziaCp72J_"
   },
   "outputs": [
    {
     "name": "stdout",
     "output_type": "stream",
     "text": [
      "[[ 5.00000000e-01+0.j   5.00000000e-01+0.j   5.00000000e-01+0.j\n",
      "   5.00000000e-01+0.j ]\n",
      " [ 5.00000000e-01+0.j   7.85046229e-17+0.5j -5.00000000e-01+0.j\n",
      "  -7.85046229e-17-0.5j]\n",
      " [ 5.00000000e-01+0.j  -5.00000000e-01+0.j   5.00000000e-01+0.j\n",
      "  -5.00000000e-01+0.j ]\n",
      " [ 5.00000000e-01+0.j  -7.85046229e-17-0.5j -5.00000000e-01+0.j\n",
      "   7.85046229e-17+0.5j]]\n"
     ]
    }
   ],
   "source": [
    "qc2 = QuantumCircuit(2)\n",
    "qft(qc2,2)\n",
    "\n",
    "print(qi.Operator(qc2).data)"
   ]
  },
  {
   "cell_type": "markdown",
   "metadata": {
    "colab_type": "text",
    "id": "kIdaWNwO72KB"
   },
   "source": [
    "## The intuition\n",
    "\n",
    "The quantum Fourier transform (QFT) transforms between two bases, the computational ($Z$) basis, and the Fourier basis. The H-gate is the single-qubit QFT, and it transforms between the $Z$-basis states  $|0\\rangle$  and  $|1\\rangle$  to the X-basis states  $|+\\rangle$  and  $|−\\rangle$ . In the same way, all multi-qubit states in the computational basis have corresponding states in the Fourier basis. The QFT is simply the function that transforms between these bases.\n",
    "\n",
    "$$|\\text{State in Computational Basis}\\rangle \\quad\\underrightarrow{QFT} \\quad{}|\\text{State in Fourier Basis}\\rangle$$\n",
    " \n",
    "$$QFT|x\\rangle=|\\tilde{x}\\rangle$$\n",
    "(We often note states in the Fourier basis using the tilde).\n",
    "\n",
    "In the computational basis, we store numbers in binary using the states  $|0\\rangle$  and  $|1\\rangle$:\n",
    "\n",
    "<img src='https://raw.githubusercontent.com/sachinpteli/personal/master/zbasis-counting.gif'> </img>\n",
    "\n",
    "Note the frequency with which the different qubits change; the leftmost qubit flips with every increment in the number, the next with every $2$ increments, the third with every $4$ increments, and so on. In the Fourier basis, we store numbers using different rotations around the $Z$-axis:\n",
    "\n",
    "<img src='https://raw.githubusercontent.com/sachinpteli/personal/master/fourierbasis-counting.gif'> </img>\n",
    "\n",
    "The number we want to store dictates the angle at which each qubit is rotated around the $Z$-axis. In the state  $|\\tilde{0}\\rangle$ , all qubits are in the state  $|+\\rangle$ . As seen in the example above, to encode the state  $|\\tilde{5}\\rangle$  on $3$ qubits, we rotated the leftmost qubit by  $\\frac{5}{2^n}= \\frac{5}{8}$  full turns ( $\\frac{5}{8} × 2 \\pi$  radians). The next qubit is turned double this ( $\\frac{10}{8} × 2 \\pi$  radians, or  $\\frac{10}{8}$  full turns), this angle is then doubled for the qubit after, and so on.\n",
    "\n",
    "Again, note the frequency with which each qubit changes. The leftmost qubit (qubit $0$) in this case has the lowest frequency, and the rightmost the highest.\n",
    "\n"
   ]
  },
  {
   "cell_type": "markdown",
   "metadata": {
    "colab_type": "text",
    "id": "hxgwW41B72KC"
   },
   "source": [
    "## Your task\n",
    "\n",
    "3) Create a circuit  in a function which adds $1$ to all the states from $|0000\\rangle$ to $|1110\\rangle$ and changes the state $|1111\\rangle$ to $|0000\\rangle$. Check the output for values $|1000\\rangle$, $|1101\\rangle$ and $|1111\\rangle$. Unofortunately, no ancilla qubits allowed.  \n",
    "Hint: Change the basis. Do the work. Change it back."
   ]
  },
  {
   "cell_type": "code",
   "execution_count": 64,
   "metadata": {
    "colab": {},
    "colab_type": "code",
    "id": "dQO4XFXL72KC"
   },
   "outputs": [],
   "source": [
    "def Modulo_increment(qc):\n",
    "    qft(qc,4)\n",
    "    for i in range(4):\n",
    "        qc.u1(np.pi/(2**(3-i)), i)\n",
    "    inverse_qft(qc, 4)\n",
    "    return qc"
   ]
  },
  {
   "cell_type": "code",
   "execution_count": 89,
   "metadata": {
    "colab": {},
    "colab_type": "code",
    "id": "RaG4808gEQPv"
   },
   "outputs": [
    {
     "name": "stdout",
     "output_type": "stream",
     "text": [
      "{'1001': 10000}\n"
     ]
    },
    {
     "data": {
      "image/png": "[encoded data removed]",
      "text/plain": [
       "<Figure size 504x360 with 1 Axes>"
      ]
     },
     "execution_count": 89,
     "metadata": {},
     "output_type": "execute_result"
    }
   ],
   "source": [
    "# checking for the case of '1000'\n",
    "qc2 = QuantumCircuit(4,4)\n",
    "qc2.x(3)\n",
    "qc2 = Modulo_increment(qc2)\n",
    "qc2.measure(range(4),range(4))\n",
    "def run_circuit(qc2):\n",
    "    backend = Aer.get_backend('qasm_simulator') # we choose the simulator as our backend\n",
    "    result = execute(qc2, backend, shots = 10000).result() # we run the simulation\n",
    "    counts = result.get_counts() # we get the counts\n",
    "    return counts\n",
    "\n",
    "counts = run_circuit(qc2)\n",
    "print(counts)\n",
    "plot_histogram(counts)"
   ]
  },
  {
   "cell_type": "code",
   "execution_count": 88,
   "metadata": {
    "colab": {},
    "colab_type": "code",
    "id": "aVptPS9lEQdM"
   },
   "outputs": [
    {
     "name": "stdout",
     "output_type": "stream",
     "text": [
      "{'1110': 10000}\n"
     ]
    },
    {
     "data": {
      "image/png": "[encoded data removed]",
      "text/plain": [
       "<Figure size 504x360 with 1 Axes>"
      ]
     },
     "execution_count": 88,
     "metadata": {},
     "output_type": "execute_result"
    }
   ],
   "source": [
    "# checking for the case of '1101'\n",
    "qc3 = QuantumCircuit(4,4)\n",
    "qc3.x(3)\n",
    "qc3.x(2)\n",
    "qc3.x(0)\n",
    "qc3 = Modulo_increment(qc3)\n",
    "qc3.measure(range(4),range(4))\n",
    "def run_circuit(qc3):\n",
    "    backend = Aer.get_backend('qasm_simulator') # we choose the simulator as our backend\n",
    "    result = execute(qc3, backend, shots = 10000).result() # we run the simulation\n",
    "    counts = result.get_counts() # we get the counts\n",
    "    return counts\n",
    "\n",
    "counts = run_circuit(qc3)\n",
    "print(counts)\n",
    "plot_histogram(counts)"
   ]
  },
  {
   "cell_type": "code",
   "execution_count": 67,
   "metadata": {
    "colab": {},
    "colab_type": "code",
    "id": "y3cAifPQEQpB"
   },
   "outputs": [
    {
     "name": "stdout",
     "output_type": "stream",
     "text": [
      "{'0000': 10000}\n"
     ]
    },
    {
     "data": {
      "image/png": "[encoded data removed]",
      "text/plain": [
       "<Figure size 504x360 with 1 Axes>"
      ]
     },
     "execution_count": 67,
     "metadata": {},
     "output_type": "execute_result"
    }
   ],
   "source": [
    "# checking for the case of '1111'\n",
    "qc4 = QuantumCircuit(4,4)\n",
    "qc4.x(range(4))\n",
    "qc4 = Modulo_increment(qc4)\n",
    "qc4.measure(range(4),range(4))\n",
    "def run_circuit(qc4):\n",
    "    backend = Aer.get_backend('qasm_simulator') # we choose the simulator as our backend\n",
    "    result = execute(qc4, backend, shots = 10000).result() # we run the simulation\n",
    "    counts = result.get_counts() # we get the counts\n",
    "    return counts\n",
    "\n",
    "counts = run_circuit(qc4)\n",
    "print(counts)\n",
    "plot_histogram(counts)"
   ]
  },
  {
   "cell_type": "code",
   "execution_count": null,
   "metadata": {},
   "outputs": [],
   "source": []
  }
 ],
 "metadata": {
  "colab": {
   "collapsed_sections": [],
   "name": "Day 7 Quantum Fourier transform and its applications: Part 1.ipynb",
   "provenance": []
  },
  "kernelspec": {
   "display_name": "Python 3",
   "language": "python",
   "name": "python3"
  },
  "language_info": {
   "codemirror_mode": {
    "name": "ipython",
    "version": 3
   },
   "file_extension": ".py",
   "mimetype": "text/x-python",
   "name": "python",
   "nbconvert_exporter": "python",
   "pygments_lexer": "ipython3",
   "version": "3.7.7"
  }
 },
 "nbformat": 4,
 "nbformat_minor": 1
}
