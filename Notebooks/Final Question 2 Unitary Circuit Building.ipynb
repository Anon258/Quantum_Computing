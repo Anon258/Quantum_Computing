{
 "cells": [
  {
   "cell_type": "markdown",
   "metadata": {
    "colab_type": "text",
    "id": "o4QmdyVMK1LG"
   },
   "source": [
    "# Circuit Decomposition\n",
    "\n",
    "You may recall from your quantum mechanics course that quantum theory is unitary. The aim of a quantum computer essentially boils down to executing unitaries and as you have seen previously we also explored universality in quantum computing\n",
    "\n",
    "**\"A set of quantum gates is said to be universal if any unitary transformation of the quantum data can be efficiently approximated arbitrarily well as a sequence of gates in the set.\"** (https://qiskit.org/textbook/ch-algorithms/defining-quantum-circuits.html)\n",
    "\n",
    "Every gate you run on the IBM Quantum Experience is transpiled into single qubit rotations and CNOT (CX) gates. We know that these constitute a universal gate set, which implies that any unitary can be implemented using only these gates. However, in general it is not easy to find a good decomposition for an arbitrary unitary. Your task is to find such a decomposition for given unitary."
   ]
  },
  {
   "cell_type": "markdown",
   "metadata": {
    "colab_type": "text",
    "id": "SpKn-fs6K1LH"
   },
   "source": [
    "First off let us import the required functions for checking circuit and supplying the unitary."
   ]
  },
  {
   "cell_type": "code",
   "execution_count": 1,
   "metadata": {
    "colab": {},
    "colab_type": "code",
    "id": "m8y54EWQK1LH"
   },
   "outputs": [
    {
     "name": "stdout",
     "output_type": "stream",
     "text": [
      "Collecting git+https://github.com/mnp-club/MnP_QC_Workshop.git\n",
      "  Cloning https://github.com/mnp-club/MnP_QC_Workshop.git to /private/var/folders/jr/81mfbkqj54bgmc6dg72ms6t00000gn/T/pip-req-build-3zfk4w1a\n",
      "  Running command git clone -q https://github.com/mnp-club/MnP_QC_Workshop.git /private/var/folders/jr/81mfbkqj54bgmc6dg72ms6t00000gn/T/pip-req-build-3zfk4w1a\n",
      "Building wheels for collected packages: mnp-qc-workshop-2020\n",
      "  Building wheel for mnp-qc-workshop-2020 (setup.py) ... \u001b[?25ldone\n",
      "\u001b[?25h  Created wheel for mnp-qc-workshop-2020: filename=mnp_qc_workshop_2020-0.1-py3-none-any.whl size=6878 sha256=157e1b28471bb88a0d95d878ad2c63be7497dea6a44a62c1932467a87a512355\n",
      "  Stored in directory: /private/var/folders/jr/81mfbkqj54bgmc6dg72ms6t00000gn/T/pip-ephem-wheel-cache-i1tc4icq/wheels/8a/05/36/f117ccc148756e959adcc34f0e038da439d98f3d4d8b1e8133\n",
      "Successfully built mnp-qc-workshop-2020\n",
      "Installing collected packages: mnp-qc-workshop-2020\n",
      "Successfully installed mnp-qc-workshop-2020-0.1\n",
      "\u001b[33mWARNING: You are using pip version 20.1.1; however, version 20.2.1 is available.\n",
      "You should consider upgrading via the '/usr/local/opt/python/bin/python3.7 -m pip install --upgrade pip' command.\u001b[0m\n",
      "Note: you may need to restart the kernel to use updated packages.\n"
     ]
    }
   ],
   "source": [
    "# Importing standard Qiskit libraries and configuring account\n",
    "from qiskit import *\n",
    "from qiskit.compiler import *\n",
    "from qiskit.tools.jupyter import *\n",
    "from qiskit.visualization import *\n",
    "import matplotlib.pyplot as plotter\n",
    "import scipy\n",
    "import numpy as np\n",
    "from IPython.display import display, Math, Latex\n",
    "import qiskit.quantum_info as qi\n",
    "%matplotlib inline\n",
    "%pip install -I git+https://github.com/mnp-club/MnP_QC_Workshop.git\n",
    "from mnp_qc_workshop_2020.unitary_circuit import *"
   ]
  },
  {
   "cell_type": "markdown",
   "metadata": {
    "colab_type": "text",
    "id": "_CVsHXouK1LL"
   },
   "source": [
    "<p>Now you can have a look at the unitary. We are just going to plot some graphs to give an idea of what it looks like.</p>"
   ]
  },
  {
   "cell_type": "code",
   "execution_count": 11,
   "metadata": {
    "colab": {},
    "colab_type": "code",
    "id": "08zbPBmbK1LL"
   },
   "outputs": [
    {
     "name": "stdout",
     "output_type": "stream",
     "text": [
      "(16, 16)\n"
     ]
    },
    {
     "data": {
      "text/plain": [
       "<matplotlib.image.AxesImage at 0x12941d3d0>"
      ]
     },
     "execution_count": 11,
     "metadata": {},
     "output_type": "execute_result"
    },
    {
     "data": {
      "image/png": "[encoded data removed]",
      "text/plain": [
       "<Figure size 864x432 with 2 Axes>"
      ]
     },
     "metadata": {
      "needs_background": "light"
     },
     "output_type": "display_data"
    },
    {
     "data": {
      "image/png": "[encoded data removed]",
      "text/plain": [
       "<Figure size 864x432 with 2 Axes>"
      ]
     },
     "metadata": {
      "needs_background": "light"
     },
     "output_type": "display_data"
    }
   ],
   "source": [
    "U = get_unitary()\n",
    "qc = QuantumCircuit(4)\n",
    "qc.unitary(U,range(4))\n",
    "for i in range(4):\n",
    "    qc.h(i)\n",
    "U = qi.Operator(qc).data\n",
    "print(U.shape)\n",
    "fig, (ax1, ax2) = plotter.subplots(nrows = 1, ncols = 2, figsize=(12,6))\n",
    "ax1.imshow(np.real(U)) #plot real parts of each element\n",
    "ax2.imshow(np.imag(U)) #plot imaginary parts of each element\n",
    "fig, (ax3, ax4) = plotter.subplots(nrows = 1, ncols = 2, figsize=(12,6))\n",
    "ax3.imshow(np.abs(U)) #plot the absolute values of each element\n",
    "ax4.imshow(np.angle(U)) #plot the phase angles of each element"
   ]
  },
  {
   "cell_type": "markdown",
   "metadata": {
    "colab_type": "text",
    "id": "c1TY8cvgK1LO"
   },
   "source": [
    "<p>Although the unitary doesnt look all that pleasant, it is symmetric and also has some interesting properties which it would disclose if you happen to do some modifications to it. You might find it to show some cleaner shape if you happen to multiply certain things to it.</p>"
   ]
  },
  {
   "cell_type": "markdown",
   "metadata": {
    "colab_type": "text",
    "id": "6-HpII9xK1LO"
   },
   "source": [
    "## Your task\n",
    "\n",
    "**Using only single qubit rotations and CNOT gates, find a quantum circuit that approximates that unitary $U$ by a unitary $V$ up to an error $\\varepsilon = 0.01$, such that $\\lVert U - V\\rVert_2 \\leq \\varepsilon$ !** \n",
    "\n",
    "Note that the norm we are using here is the spectral norm, $\\qquad \\lVert A \\rVert_2 = \\max_{\\lVert \\psi \\rVert_2= 1} \\lVert A \\psi \\rVert$.\n",
    "\n",
    "This can be seen as the largest scaling factor that the matrix $A$ has on any initial (normalized) state $\\psi$. One can show that this norm corresponds to the largest singular value of $A$, i.e., the square root of the largest eigenvalue of the matrix $A^\\dagger A$, where $A^{\\dagger}$ denotes the conjugate transpose of $A$.\n",
    "\n",
    "**When you submit a circuit, we remove the global phase of the corresponding unitary $V$ before comparing it with $U$ using the spectral norm. For example, if you submit a circuit that generates $V = \\text{e}^{i\\theta}U$, we remove the global phase $\\text{e}^{i\\theta}$ from $V$ before computing the norm, and you will have a successful submission. As a result, you do not have to worry about matching the desired unitary, $U$, up to a global phase.**\n",
    "\n",
    "The cost function that we have defined is something like this\n",
    "$$\n",
    "\\qquad \\text{cost} = 10 \\cdot n_{cx} + n_{u3}\n",
    "$$\n",
    "\n",
    "**Note that you will need to ensure that your circuit is composed only of $u3$ and $cx$ gates. The exercise is considered correctly solved if your cost is smaller than 1200.**\n",
    "\n",
    "In the cell below you can go ahead and try to execute this in a circuit. Note that we have added a transpile function in the cell below since we are going to calculate the cost after your circuit has been transpiled into only CNOT gates and U3 gates. You can find the documentation for the transpile function <a href = \"https://qiskit.org/documentation/stubs/qiskit.compiler.transpile.html\">here</a>.\n",
    "\n",
    "Another function that might come in handy for starting with is the <code>QuantumCircuit.unitary(obj, qubits[, label])</code> which simply applies the unitary gate <code>obj</code> to the given <code>qubits</code>."
   ]
  },
  {
   "cell_type": "code",
   "execution_count": null,
   "metadata": {},
   "outputs": [],
   "source": []
  },
  {
   "cell_type": "code",
   "execution_count": 10,
   "metadata": {
    "colab": {},
    "colab_type": "code",
    "id": "l88Q-3mwK1LP"
   },
   "outputs": [
    {
     "name": "stdout",
     "output_type": "stream",
     "text": [
      "[[ 2.50000000e-01+2.77555756e-17j  2.50000000e-01+2.77555756e-17j\n",
      "   2.50000000e-01+2.77555756e-17j  2.50000000e-01+2.77555756e-17j\n",
      "   2.50000000e-01+2.77555756e-17j  2.50000000e-01+2.77555756e-17j\n",
      "   2.50000000e-01+2.77555756e-17j  2.50000000e-01+2.77555756e-17j\n",
      "   2.50000000e-01+2.77555756e-17j  2.50000000e-01+2.77555756e-17j\n",
      "   2.50000000e-01+2.77555756e-17j  2.50000000e-01+2.77555756e-17j\n",
      "   2.50000000e-01+2.77555756e-17j  2.50000000e-01+2.77555756e-17j\n",
      "   2.50000000e-01+2.77555756e-17j  2.50000000e-01+2.77555756e-17j]\n",
      " [ 1.76776695e-01+1.76776695e-01j -1.76776695e-01-1.76776695e-01j\n",
      "   1.76776695e-01+1.76776695e-01j -1.76776695e-01-1.76776695e-01j\n",
      "   1.76776695e-01+1.76776695e-01j -1.76776695e-01-1.76776695e-01j\n",
      "   1.76776695e-01+1.76776695e-01j -1.76776695e-01-1.76776695e-01j\n",
      "   1.76776695e-01+1.76776695e-01j -1.76776695e-01-1.76776695e-01j\n",
      "   1.76776695e-01+1.76776695e-01j -1.76776695e-01-1.76776695e-01j\n",
      "   1.76776695e-01+1.76776695e-01j -1.76776695e-01-1.76776695e-01j\n",
      "   1.76776695e-01+1.76776695e-01j -1.76776695e-01-1.76776695e-01j]\n",
      " [-1.76776695e-01+1.76776695e-01j -1.76776695e-01+1.76776695e-01j\n",
      "   1.76776695e-01-1.76776695e-01j  1.76776695e-01-1.76776695e-01j\n",
      "  -1.76776695e-01+1.76776695e-01j -1.76776695e-01+1.76776695e-01j\n",
      "   1.76776695e-01-1.76776695e-01j  1.76776695e-01-1.76776695e-01j\n",
      "  -1.76776695e-01+1.76776695e-01j -1.76776695e-01+1.76776695e-01j\n",
      "   1.76776695e-01-1.76776695e-01j  1.76776695e-01-1.76776695e-01j\n",
      "  -1.76776695e-01+1.76776695e-01j -1.76776695e-01+1.76776695e-01j\n",
      "   1.76776695e-01-1.76776695e-01j  1.76776695e-01-1.76776695e-01j]\n",
      " [-2.50000000e-01+1.38777878e-17j  2.50000000e-01-1.38777878e-17j\n",
      "   2.50000000e-01-1.38777878e-17j -2.50000000e-01+1.38777878e-17j\n",
      "  -2.50000000e-01+1.38777878e-17j  2.50000000e-01-1.38777878e-17j\n",
      "   2.50000000e-01-1.38777878e-17j -2.50000000e-01+1.38777878e-17j\n",
      "  -2.50000000e-01+1.38777878e-17j  2.50000000e-01-1.38777878e-17j\n",
      "   2.50000000e-01-1.38777878e-17j -2.50000000e-01+1.38777878e-17j\n",
      "  -2.50000000e-01+1.38777878e-17j  2.50000000e-01-1.38777878e-17j\n",
      "   2.50000000e-01-1.38777878e-17j -2.50000000e-01+1.38777878e-17j]\n",
      " [ 2.77555756e-17+2.50000000e-01j  2.77555756e-17+2.50000000e-01j\n",
      "   2.77555756e-17+2.50000000e-01j  2.77555756e-17+2.50000000e-01j\n",
      "  -2.77555756e-17-2.50000000e-01j -2.77555756e-17-2.50000000e-01j\n",
      "  -2.77555756e-17-2.50000000e-01j -2.77555756e-17-2.50000000e-01j\n",
      "   2.77555756e-17+2.50000000e-01j  2.77555756e-17+2.50000000e-01j\n",
      "   2.77555756e-17+2.50000000e-01j  2.77555756e-17+2.50000000e-01j\n",
      "  -2.77555756e-17-2.50000000e-01j -2.77555756e-17-2.50000000e-01j\n",
      "  -2.77555756e-17-2.50000000e-01j -2.77555756e-17-2.50000000e-01j]\n",
      " [ 1.76776695e-01-1.76776695e-01j -1.76776695e-01+1.76776695e-01j\n",
      "   1.76776695e-01-1.76776695e-01j -1.76776695e-01+1.76776695e-01j\n",
      "  -1.76776695e-01+1.76776695e-01j  1.76776695e-01-1.76776695e-01j\n",
      "  -1.76776695e-01+1.76776695e-01j  1.76776695e-01-1.76776695e-01j\n",
      "   1.76776695e-01-1.76776695e-01j -1.76776695e-01+1.76776695e-01j\n",
      "   1.76776695e-01-1.76776695e-01j -1.76776695e-01+1.76776695e-01j\n",
      "  -1.76776695e-01+1.76776695e-01j  1.76776695e-01-1.76776695e-01j\n",
      "  -1.76776695e-01+1.76776695e-01j  1.76776695e-01-1.76776695e-01j]\n",
      " [-1.76776695e-01-1.76776695e-01j -1.76776695e-01-1.76776695e-01j\n",
      "   1.76776695e-01+1.76776695e-01j  1.76776695e-01+1.76776695e-01j\n",
      "   1.76776695e-01+1.76776695e-01j  1.76776695e-01+1.76776695e-01j\n",
      "  -1.76776695e-01-1.76776695e-01j -1.76776695e-01-1.76776695e-01j\n",
      "  -1.76776695e-01-1.76776695e-01j -1.76776695e-01-1.76776695e-01j\n",
      "   1.76776695e-01+1.76776695e-01j  1.76776695e-01+1.76776695e-01j\n",
      "   1.76776695e-01+1.76776695e-01j  1.76776695e-01+1.76776695e-01j\n",
      "  -1.76776695e-01-1.76776695e-01j -1.76776695e-01-1.76776695e-01j]\n",
      " [-1.38777878e-17+2.50000000e-01j  1.38777878e-17-2.50000000e-01j\n",
      "   1.38777878e-17-2.50000000e-01j -1.38777878e-17+2.50000000e-01j\n",
      "   1.38777878e-17-2.50000000e-01j -1.38777878e-17+2.50000000e-01j\n",
      "  -1.38777878e-17+2.50000000e-01j  1.38777878e-17-2.50000000e-01j\n",
      "  -1.38777878e-17+2.50000000e-01j  1.38777878e-17-2.50000000e-01j\n",
      "   1.38777878e-17-2.50000000e-01j -1.38777878e-17+2.50000000e-01j\n",
      "   1.38777878e-17-2.50000000e-01j -1.38777878e-17+2.50000000e-01j\n",
      "  -1.38777878e-17+2.50000000e-01j  1.38777878e-17-2.50000000e-01j]\n",
      " [-1.76776695e-01-1.76776695e-01j -1.76776695e-01-1.76776695e-01j\n",
      "  -1.76776695e-01-1.76776695e-01j -1.76776695e-01-1.76776695e-01j\n",
      "  -1.76776695e-01-1.76776695e-01j -1.76776695e-01-1.76776695e-01j\n",
      "  -1.76776695e-01-1.76776695e-01j -1.76776695e-01-1.76776695e-01j\n",
      "   1.76776695e-01+1.76776695e-01j  1.76776695e-01+1.76776695e-01j\n",
      "   1.76776695e-01+1.76776695e-01j  1.76776695e-01+1.76776695e-01j\n",
      "   1.76776695e-01+1.76776695e-01j  1.76776695e-01+1.76776695e-01j\n",
      "   1.76776695e-01+1.76776695e-01j  1.76776695e-01+1.76776695e-01j]\n",
      " [ 0.00000000e+00+2.50000000e-01j  0.00000000e+00-2.50000000e-01j\n",
      "   0.00000000e+00+2.50000000e-01j  0.00000000e+00-2.50000000e-01j\n",
      "   0.00000000e+00+2.50000000e-01j  0.00000000e+00-2.50000000e-01j\n",
      "   0.00000000e+00+2.50000000e-01j  0.00000000e+00-2.50000000e-01j\n",
      "   0.00000000e+00-2.50000000e-01j  0.00000000e+00+2.50000000e-01j\n",
      "   0.00000000e+00-2.50000000e-01j  0.00000000e+00+2.50000000e-01j\n",
      "   0.00000000e+00-2.50000000e-01j  0.00000000e+00+2.50000000e-01j\n",
      "   0.00000000e+00-2.50000000e-01j  0.00000000e+00+2.50000000e-01j]\n",
      " [-2.50000000e-01-1.38777878e-17j -2.50000000e-01-1.38777878e-17j\n",
      "   2.50000000e-01+1.38777878e-17j  2.50000000e-01+1.38777878e-17j\n",
      "  -2.50000000e-01-1.38777878e-17j -2.50000000e-01-1.38777878e-17j\n",
      "   2.50000000e-01+1.38777878e-17j  2.50000000e-01+1.38777878e-17j\n",
      "   2.50000000e-01+1.38777878e-17j  2.50000000e-01+1.38777878e-17j\n",
      "  -2.50000000e-01-1.38777878e-17j -2.50000000e-01-1.38777878e-17j\n",
      "   2.50000000e-01+1.38777878e-17j  2.50000000e-01+1.38777878e-17j\n",
      "  -2.50000000e-01-1.38777878e-17j -2.50000000e-01-1.38777878e-17j]\n",
      " [ 1.76776695e-01+1.76776695e-01j -1.76776695e-01-1.76776695e-01j\n",
      "  -1.76776695e-01-1.76776695e-01j  1.76776695e-01+1.76776695e-01j\n",
      "   1.76776695e-01+1.76776695e-01j -1.76776695e-01-1.76776695e-01j\n",
      "  -1.76776695e-01-1.76776695e-01j  1.76776695e-01+1.76776695e-01j\n",
      "  -1.76776695e-01-1.76776695e-01j  1.76776695e-01+1.76776695e-01j\n",
      "   1.76776695e-01+1.76776695e-01j -1.76776695e-01-1.76776695e-01j\n",
      "  -1.76776695e-01-1.76776695e-01j  1.76776695e-01+1.76776695e-01j\n",
      "   1.76776695e-01+1.76776695e-01j -1.76776695e-01-1.76776695e-01j]\n",
      " [ 1.76776695e-01-1.76776695e-01j  1.76776695e-01-1.76776695e-01j\n",
      "   1.76776695e-01-1.76776695e-01j  1.76776695e-01-1.76776695e-01j\n",
      "  -1.76776695e-01+1.76776695e-01j -1.76776695e-01+1.76776695e-01j\n",
      "  -1.76776695e-01+1.76776695e-01j -1.76776695e-01+1.76776695e-01j\n",
      "  -1.76776695e-01+1.76776695e-01j -1.76776695e-01+1.76776695e-01j\n",
      "  -1.76776695e-01+1.76776695e-01j -1.76776695e-01+1.76776695e-01j\n",
      "   1.76776695e-01-1.76776695e-01j  1.76776695e-01-1.76776695e-01j\n",
      "   1.76776695e-01-1.76776695e-01j  1.76776695e-01-1.76776695e-01j]\n",
      " [ 2.50000000e-01-4.16333634e-17j -2.50000000e-01+4.16333634e-17j\n",
      "   2.50000000e-01-4.16333634e-17j -2.50000000e-01+4.16333634e-17j\n",
      "  -2.50000000e-01+4.16333634e-17j  2.50000000e-01-4.16333634e-17j\n",
      "  -2.50000000e-01+4.16333634e-17j  2.50000000e-01-4.16333634e-17j\n",
      "  -2.50000000e-01+4.16333634e-17j  2.50000000e-01-4.16333634e-17j\n",
      "  -2.50000000e-01+4.16333634e-17j  2.50000000e-01-4.16333634e-17j\n",
      "   2.50000000e-01-4.16333634e-17j -2.50000000e-01+4.16333634e-17j\n",
      "   2.50000000e-01-4.16333634e-17j -2.50000000e-01+4.16333634e-17j]\n",
      " [ 2.77555756e-17-2.50000000e-01j  2.77555756e-17-2.50000000e-01j\n",
      "  -2.77555756e-17+2.50000000e-01j -2.77555756e-17+2.50000000e-01j\n",
      "  -2.77555756e-17+2.50000000e-01j -2.77555756e-17+2.50000000e-01j\n",
      "   2.77555756e-17-2.50000000e-01j  2.77555756e-17-2.50000000e-01j\n",
      "  -2.77555756e-17+2.50000000e-01j -2.77555756e-17+2.50000000e-01j\n",
      "   2.77555756e-17-2.50000000e-01j  2.77555756e-17-2.50000000e-01j\n",
      "   2.77555756e-17-2.50000000e-01j  2.77555756e-17-2.50000000e-01j\n",
      "  -2.77555756e-17+2.50000000e-01j -2.77555756e-17+2.50000000e-01j]\n",
      " [ 1.76776695e-01-1.76776695e-01j -1.76776695e-01+1.76776695e-01j\n",
      "  -1.76776695e-01+1.76776695e-01j  1.76776695e-01-1.76776695e-01j\n",
      "  -1.76776695e-01+1.76776695e-01j  1.76776695e-01-1.76776695e-01j\n",
      "   1.76776695e-01-1.76776695e-01j -1.76776695e-01+1.76776695e-01j\n",
      "  -1.76776695e-01+1.76776695e-01j  1.76776695e-01-1.76776695e-01j\n",
      "   1.76776695e-01-1.76776695e-01j -1.76776695e-01+1.76776695e-01j\n",
      "   1.76776695e-01-1.76776695e-01j -1.76776695e-01+1.76776695e-01j\n",
      "  -1.76776695e-01+1.76776695e-01j  1.76776695e-01-1.76776695e-01j]]\n"
     ]
    }
   ],
   "source": [
    "qc = QuantumCircuit(4)\n",
    "qc.unitary(U,range(4))\n",
    "for i in range(4):\n",
    "    qc.h(i)\n",
    "print(qi.Operator(qc).data)\n",
    "# qc = transpile(qc,basis_gates=['cx','u3'],optimization_level=3)\n",
    "# qc.draw('mpl')"
   ]
  },
  {
   "cell_type": "code",
   "execution_count": null,
   "metadata": {
    "colab": {},
    "colab_type": "code",
    "id": "4E3w6VTiK1LS",
    "scrolled": true
   },
   "outputs": [],
   "source": [
    "#Run this cell for getting your circuit checked\n",
    "check_circuit(qc)"
   ]
  }
 ],
 "metadata": {
  "colab": {
   "collapsed_sections": [],
   "name": "Final Question 2: Unitary Circuit Building.ipynb",
   "provenance": []
  },
  "kernelspec": {
   "display_name": "Python 3",
   "language": "python",
   "name": "python3"
  },
  "language_info": {
   "codemirror_mode": {
    "name": "ipython",
    "version": 3
   },
   "file_extension": ".py",
   "mimetype": "text/x-python",
   "name": "python",
   "nbconvert_exporter": "python",
   "pygments_lexer": "ipython3",
   "version": "3.7.7"
  }
 },
 "nbformat": 4,
 "nbformat_minor": 1
}
