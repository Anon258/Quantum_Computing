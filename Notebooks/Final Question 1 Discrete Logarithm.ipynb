{
 "cells": [
  {
   "cell_type": "markdown",
   "metadata": {
    "colab_type": "text",
    "id": "TGif5OgHa65Z"
   },
   "source": [
    "# The Discrete Logarithm problem\n",
    "\n",
    "The discrete logarithm problem is that if given $a$ and $b = a^s$, we have to determine $s$. Say we have the function $f(x_1,x_2) = a^{sx_1 + x_2}\\mod N$ and let say $r$ is the smallest positive integer $a^r\\mod N = 1$. This function's period is a tuple $(l,-ls)$. Say we have a unitary $U|{x_1}\\rangle|{x_2}\\rangle|{y}\\rangle = |{x_1}\\rangle|{x_2}\\rangle|{y \\oplus f(x_1,x_2)}\\rangle$ we can actually find its period in a similar manner to the period finding algorithm described previously.\n",
    "\n",
    "So we just start with the state $|{0}\\rangle|{0}\\rangle|{0}\\rangle$ over three registers where the first two have $t = O(\\text{ceil}(\\log r + \\log(1/\\epsilon)))$ qubits and the third one stores the function and then create the superposition states for the first two register. We then apply the unitary on the state and that can be decomposed in a similar way as shown in step 3 of the period finding algorithms procedure to \n",
    "$$\\dfrac{1}{2^t}\\sum_{x_1=0}^{2^t-1}\\sum_{x_2=0}^{2^t-1}|{x_1}\\rangle|{x_2}\\rangle|{f(x_1,x_2)}\\rangle$$ \n",
    "$$\\approx \\dfrac{1}{2^t\\sqrt{r}}\\sum_{l_2=0}^{r-1}\\sum_{x_1=0}^{2^t-1}\\sum_{x_2=0}^{2^t-1}e^{2\\pi\\iota(sl_2x_1 + l_2x_2)/r}|{x_1}\\rangle|{x_2}\\rangle|{\\hat{f}(sl_2,l_2)}\\rangle$$\n",
    "\\begin{equation}= \\dfrac{1}{2^t\\sqrt{r}}\\sum_{l_2=0}^{r-1}\\left[\\sum_{x_1=0}^{2^t-1}e^{2\\pi\\iota(sl_2x_1)/r}\\right]\\left[\\sum_{x_2=0}^{2^t-1}e^{2\\pi\\iota(l_2x_2)/r}\\right]|{x_1}\\rangle|{x_2}\\rangle|{\\hat{f}(sl_2,l_2)}\\rangle\\end{equation}\n",
    "\n",
    "We can see that applying the inverse Fourier transform and see that we will be left with a state to be this\n",
    "$$\\dfrac{1}{\\sqrt{r}}\\sum_{l_2 = 0}^{r - 1}|sl_2/r\\rangle|l_2/r\\rangle|{\\hat{f}(sl_2,l_2)}\\rangle$$\n",
    "Now this has some abuse of notation happening here. So first off, the actual state would not be $|sl_2/r\\rangle$ but rather would be $|sl_2/r*(2^t)\\mod(2^t)\\rangle$ as the state stored in that register so on measurement you would have to analyze the results keeping this in mind. Using the results keeping this in mind, you can analyze the fractions of their phases of the eigen values of the oracle (the logic of phase estimation) and that would be $(sl_2/r*(2^t)\\mod(2^t))/(2^t)$.\n",
    "\n",
    "Note that $|{\\hat{f}(l_1,l_2)}\\rangle = \\dfrac{1}{\\sqrt{r}}\\sum_{j=0}^{r-1}e^{-2\\pi\\iota{l_2j}/r}|{f(0,j)}\\rangle$ which is the Fourier transform of $f(x_1,x_2)$. Note that $l_1,l_2$ must satisfy $\\sum_{k=0}^{r-1}e^{2\\pi\\iota{k(l_1/s - l_2)}/r} = r$ else the amplitude of $f(l_1,l_2)$ would go to zero.\n",
    "\n",
    "## Corrections made:\n",
    "The oracle actually does the operation $O|x_1\\rangle|x_2\\rangle|y\\rangle = |x_1\\rangle|x_2\\rangle|y * f(x_1,x_2)\\rangle$ and $f(x_1,x_2) = a^{x_1}b^{x_2}\\mod{15}$ whereas in the uncorrected version it was written as $O|x_1\\rangle|x_2\\rangle|y\\rangle = |x_1\\rangle|x_2\\rangle|y * f(x_1,x_2)\\rangle$ and $f(x_1,x_2) = b^{x_1}a^{x_2}\\mod{15}$. This doesn't change any of the underlying concept since this just switches the position of the two registers otherwise it is the exact same. We are sorry for any inconveniences caused.\n"
   ]
  },
  {
   "cell_type": "code",
   "execution_count": 1,
   "metadata": {
    "colab": {},
    "colab_type": "code",
    "id": "6CE9PWH0a65a"
   },
   "outputs": [
    {
     "name": "stdout",
     "output_type": "stream",
     "text": [
      "Collecting git+https://github.com/mnp-club/MnP_QC_Workshop.git\n",
      "  Cloning https://github.com/mnp-club/MnP_QC_Workshop.git to /private/var/folders/jr/81mfbkqj54bgmc6dg72ms6t00000gn/T/pip-req-build-wotfjile\n",
      "  Running command git clone -q https://github.com/mnp-club/MnP_QC_Workshop.git /private/var/folders/jr/81mfbkqj54bgmc6dg72ms6t00000gn/T/pip-req-build-wotfjile\n",
      "Building wheels for collected packages: mnp-qc-workshop-2020\n",
      "  Building wheel for mnp-qc-workshop-2020 (setup.py) ... \u001b[?25ldone\n",
      "\u001b[?25h  Created wheel for mnp-qc-workshop-2020: filename=mnp_qc_workshop_2020-0.1-py3-none-any.whl size=6878 sha256=be4b885cd2ea853c3157e770c69d960f002ca01388c3fd1e2d9789b4cd785b1e\n",
      "  Stored in directory: /private/var/folders/jr/81mfbkqj54bgmc6dg72ms6t00000gn/T/pip-ephem-wheel-cache-ht81ljlr/wheels/8a/05/36/f117ccc148756e959adcc34f0e038da439d98f3d4d8b1e8133\n",
      "Successfully built mnp-qc-workshop-2020\n",
      "Installing collected packages: mnp-qc-workshop-2020\n",
      "Successfully installed mnp-qc-workshop-2020-0.1\n",
      "\u001b[33mWARNING: You are using pip version 20.1.1; however, version 20.2.1 is available.\n",
      "You should consider upgrading via the '/usr/local/opt/python/bin/python3.7 -m pip install --upgrade pip' command.\u001b[0m\n",
      "Note: you may need to restart the kernel to use updated packages.\n"
     ]
    }
   ],
   "source": [
    "%matplotlib inline\n",
    "# Importing standard Qiskit libraries and configuring account\n",
    "from qiskit import QuantumCircuit, execute, Aer, IBMQ\n",
    "from qiskit.compiler import transpile, assemble\n",
    "from qiskit.tools.jupyter import *\n",
    "from qiskit.visualization import *\n",
    "from tabulate import tabulate\n",
    "# Loading your IBM Q account(s)\n",
    "provider = IBMQ.load_account()\n",
    "#Get the library to check the answers\n",
    "%pip install -I git+https://github.com/mnp-club/MnP_QC_Workshop.git\n",
    "from mnp_qc_workshop_2020.discrete_logarithm import qft_dagger, oracle, check_answer"
   ]
  },
  {
   "cell_type": "markdown",
   "metadata": {
    "colab_type": "text",
    "id": "u1DMBsY2a65e"
   },
   "source": [
    "A thing we can note is that we do not neccessarily need to construct the oracle for $U|x_1\\rangle|x_2\\rangle|y\\rangle = |x_1\\rangle|x_2\\rangle|y \\oplus f(x_1,x_2)\\rangle$ we can also use the oracle for $U|x_1\\rangle|x_2\\rangle|y\\rangle = |x_1\\rangle|x_2\\rangle|y * f(x_1,x_2)\\rangle$ and just set $|y\\rangle = |1\\rangle$.\n",
    "\n",
    "## Your task\n",
    "\n",
    "So you are now given an oracle which does the following operation $O|x_1\\rangle|x_2\\rangle|y\\rangle = |x_1\\rangle|x_2\\rangle|y * f(x_1,x_2)\\rangle$ and $f(x_1,x_2) = a^{x_1}b^{x_2}\\mod{15}$ and here $|x_1\\rangle$ and $|x_2\\rangle$ are 3 qubit states and quite trivially the state of $|y * f(x_1,x_2)\\rangle$ will be stored using 4 qubits. Your task is to find the values of $a$ and $b$ using the discrete logarithm setup described above to find the minimum $s$ (which is an integer) for $a^s = b$ and you are free to perform additional analysis using the oracle to find out the values of $a$ and $b$. An obvious clue that you can see is that both $a$ and $b$ are coprime with 15. Also assume that $a,b < 15$\n",
    "\n",
    "For performing inverse fourier transform over some $n$ qubits from the circuit just use <code>QuantumCircuit.append(qft_dagger(n), qubits)</code> and for attaching the oracle use <code>QuantumCircuit.append(oracle(), qubits)</code>.\n",
    "\n",
    "**Note:** use the qiskit notation everywhere except for the third register so if you want to put the thrd register into the state $|1\\rangle$ you have to apply an $X$ gate at the q_9 which is the first qubit of the third register.\n",
    "\n",
    "There is a possibility that you would have reached the answer pretty easily but I would urge you to reach it with as much rigor as possible. This question is anyway in the bonus category so you need not think about the points you will receive."
   ]
  },
  {
   "cell_type": "code",
   "execution_count": 7,
   "metadata": {
    "colab": {},
    "colab_type": "code",
    "id": "pDomYpOFa65e"
   },
   "outputs": [
    {
     "data": {
      "text/html": [
       "<pre style=\"word-wrap: normal;white-space: pre;background: #fff0;line-height: 1.1;font-family: &quot;Courier New&quot;,Courier,monospace\">     ┌───┐┌─────────┐┌───────┐┌─┐               \n",
       "q_0: ┤ H ├┤0        ├┤0      ├┤M├───────────────\n",
       "     ├───┤│         ││       │└╥┘┌─┐            \n",
       "q_1: ┤ H ├┤1        ├┤1 QFT† ├─╫─┤M├────────────\n",
       "     ├───┤│         ││       │ ║ └╥┘┌─┐         \n",
       "q_2: ┤ H ├┤2        ├┤2      ├─╫──╫─┤M├─────────\n",
       "     ├───┤│         │├───────┤ ║  ║ └╥┘┌─┐      \n",
       "q_3: ┤ H ├┤3        ├┤0      ├─╫──╫──╫─┤M├──────\n",
       "     ├───┤│         ││       │ ║  ║  ║ └╥┘┌─┐   \n",
       "q_4: ┤ H ├┤4        ├┤1 QFT† ├─╫──╫──╫──╫─┤M├───\n",
       "     ├───┤│  Oracle ││       │ ║  ║  ║  ║ └╥┘┌─┐\n",
       "q_5: ┤ H ├┤5        ├┤2      ├─╫──╫──╫──╫──╫─┤M├\n",
       "     └───┘│         │└───────┘ ║  ║  ║  ║  ║ └╥┘\n",
       "q_6: ─────┤6        ├──────────╫──╫──╫──╫──╫──╫─\n",
       "          │         │          ║  ║  ║  ║  ║  ║ \n",
       "q_7: ─────┤7        ├──────────╫──╫──╫──╫──╫──╫─\n",
       "          │         │          ║  ║  ║  ║  ║  ║ \n",
       "q_8: ─────┤8        ├──────────╫──╫──╫──╫──╫──╫─\n",
       "     ┌───┐│         │          ║  ║  ║  ║  ║  ║ \n",
       "q_9: ┤ X ├┤9        ├──────────╫──╫──╫──╫──╫──╫─\n",
       "     └───┘└─────────┘          ║  ║  ║  ║  ║  ║ \n",
       "c_0: ══════════════════════════╩══╬══╬══╬══╬══╬═\n",
       "                                  ║  ║  ║  ║  ║ \n",
       "c_1: ═════════════════════════════╩══╬══╬══╬══╬═\n",
       "                                     ║  ║  ║  ║ \n",
       "c_2: ════════════════════════════════╩══╬══╬══╬═\n",
       "                                        ║  ║  ║ \n",
       "c_3: ═══════════════════════════════════╩══╬══╬═\n",
       "                                           ║  ║ \n",
       "c_4: ══════════════════════════════════════╩══╬═\n",
       "                                              ║ \n",
       "c_5: ═════════════════════════════════════════╩═\n",
       "                                                </pre>"
      ],
      "text/plain": [
       "     ┌───┐┌─────────┐┌───────┐┌─┐               \n",
       "q_0: ┤ H ├┤0        ├┤0      ├┤M├───────────────\n",
       "     ├───┤│         ││       │└╥┘┌─┐            \n",
       "q_1: ┤ H ├┤1        ├┤1 QFT† ├─╫─┤M├────────────\n",
       "     ├───┤│         ││       │ ║ └╥┘┌─┐         \n",
       "q_2: ┤ H ├┤2        ├┤2      ├─╫──╫─┤M├─────────\n",
       "     ├───┤│         │├───────┤ ║  ║ └╥┘┌─┐      \n",
       "q_3: ┤ H ├┤3        ├┤0      ├─╫──╫──╫─┤M├──────\n",
       "     ├───┤│         ││       │ ║  ║  ║ └╥┘┌─┐   \n",
       "q_4: ┤ H ├┤4        ├┤1 QFT† ├─╫──╫──╫──╫─┤M├───\n",
       "     ├───┤│  Oracle ││       │ ║  ║  ║  ║ └╥┘┌─┐\n",
       "q_5: ┤ H ├┤5        ├┤2      ├─╫──╫──╫──╫──╫─┤M├\n",
       "     └───┘│         │└───────┘ ║  ║  ║  ║  ║ └╥┘\n",
       "q_6: ─────┤6        ├──────────╫──╫──╫──╫──╫──╫─\n",
       "          │         │          ║  ║  ║  ║  ║  ║ \n",
       "q_7: ─────┤7        ├──────────╫──╫──╫──╫──╫──╫─\n",
       "          │         │          ║  ║  ║  ║  ║  ║ \n",
       "q_8: ─────┤8        ├──────────╫──╫──╫──╫──╫──╫─\n",
       "     ┌───┐│         │          ║  ║  ║  ║  ║  ║ \n",
       "q_9: ┤ X ├┤9        ├──────────╫──╫──╫──╫──╫──╫─\n",
       "     └───┘└─────────┘          ║  ║  ║  ║  ║  ║ \n",
       "c_0: ══════════════════════════╩══╬══╬══╬══╬══╬═\n",
       "                                  ║  ║  ║  ║  ║ \n",
       "c_1: ═════════════════════════════╩══╬══╬══╬══╬═\n",
       "                                     ║  ║  ║  ║ \n",
       "c_2: ════════════════════════════════╩══╬══╬══╬═\n",
       "                                        ║  ║  ║ \n",
       "c_3: ═══════════════════════════════════╩══╬══╬═\n",
       "                                           ║  ║ \n",
       "c_4: ══════════════════════════════════════╩══╬═\n",
       "                                              ║ \n",
       "c_5: ═════════════════════════════════════════╩═\n",
       "                                                "
      ]
     },
     "execution_count": 7,
     "metadata": {},
     "output_type": "execute_result"
    }
   ],
   "source": [
    "n_qubits = 3 #Number of qubits for the registers of |x1> and |x2>\n",
    "#For figuring out you would just need 2*n_qubits classical bits\n",
    "qc_disc_log = QuantumCircuit(4+n_qubits+n_qubits, n_qubits+n_qubits)\n",
    "\n",
    "for i in range(n_qubits):\n",
    "    qc_disc_log.h(i)\n",
    "    qc_disc_log.h(i+n_qubits)\n",
    "\n",
    "qc_disc_log.x(3+2*n_qubits)\n",
    "qc_disc_log.append(oracle(), [i for i in range(10)])\n",
    "\n",
    "qc_disc_log.append(qft_dagger(3), [0,1,2])\n",
    "qc_disc_log.append(qft_dagger(3), [3,4,5])\n",
    "\n",
    "qc_disc_log.measure(range(6),range(6))\n",
    "\n",
    "qc_disc_log.draw('text')"
   ]
  },
  {
   "cell_type": "markdown",
   "metadata": {
    "colab_type": "text",
    "id": "-9Pbav4xa65h"
   },
   "source": [
    "Now that you have made the required circuit (hopefully it is correct) let us go ahead and run it and check our results. If done correctly you can expect four values to only be reached."
   ]
  },
  {
   "cell_type": "code",
   "execution_count": 8,
   "metadata": {
    "colab": {},
    "colab_type": "code",
    "id": "W7KowxVoa65h"
   },
   "outputs": [
    {
     "data": {
      "image/png": "[encoded data removed]",
      "text/plain": [
       "<Figure size 504x360 with 1 Axes>"
      ]
     },
     "execution_count": 8,
     "metadata": {},
     "output_type": "execute_result"
    }
   ],
   "source": [
    "backend = Aer.get_backend('qasm_simulator')\n",
    "results = execute(qc_disc_log, backend, shots=8192).result()\n",
    "counts = results.get_counts()\n",
    "plot_histogram(counts)"
   ]
  },
  {
   "cell_type": "markdown",
   "metadata": {
    "colab_type": "text",
    "id": "_Js1caj-a65k"
   },
   "source": [
    "Let us now analyze these results. Do refer the explanation in the beginning to properly analyze the results and infer a value of $s$ from there."
   ]
  },
  {
   "cell_type": "code",
   "execution_count": 9,
   "metadata": {
    "colab": {},
    "colab_type": "code",
    "id": "lmV9ckEFa65k"
   },
   "outputs": [
    {
     "name": "stdout",
     "output_type": "stream",
     "text": [
      "Register Output    Phase\n",
      "-----------------  ----------\n",
      "010(bin) = 2(dec)  2/8 = 0.25\n",
      "000(bin) = 0(dec)  0/8 = 0.00\n",
      "100(bin) = 4(dec)  4/8 = 0.50\n",
      "110(bin) = 6(dec)  6/8 = 0.75\n"
     ]
    }
   ],
   "source": [
    "rows_x_1, eigenvalues_x_1 = [], []\n",
    "for output in counts:\n",
    "    decimal = int(output, 2)//8\n",
    "    eigenvalue = decimal/(2**3)\n",
    "    eigenvalues_x_1.append(eigenvalue)\n",
    "    rows_x_1.append([\"%s(bin) = %i(dec)\" % (output[0:3], decimal), \"%i/%i = %.2f\" % (decimal, 2**3, eigenvalue)])\n",
    "print(tabulate(rows_x_1, headers=[\"Register Output\", \"Phase\"]))"
   ]
  },
  {
   "cell_type": "code",
   "execution_count": 10,
   "metadata": {
    "colab": {},
    "colab_type": "code",
    "id": "xfo-sZHfa65n"
   },
   "outputs": [
    {
     "name": "stdout",
     "output_type": "stream",
     "text": [
      "Register Output    Phase\n",
      "-----------------  ----------\n",
      "110(bin) = 6(dec)  6/8 = 0.75\n",
      "000(bin) = 0(dec)  0/8 = 0.00\n",
      "100(bin) = 4(dec)  4/8 = 0.50\n",
      "010(bin) = 2(dec)  2/8 = 0.25\n"
     ]
    }
   ],
   "source": [
    "rows_x_2, eigenvalues_x_2 = [], []\n",
    "for output in counts:\n",
    "    decimal = int(output, 2) - ((int(output, 2)//8)*8)\n",
    "    eigenvalue = decimal/(2**3)\n",
    "    eigenvalues_x_2.append(eigenvalue)\n",
    "    rows_x_2.append([\"%s(bin) = %i(dec)\" % (output[3:6], decimal), \"%i/%i = %.2f\" % (decimal, 2**3, eigenvalue)])\n",
    "print(tabulate(rows_x_2, headers=[\"Register Output\", \"Phase\"]))"
   ]
  },
  {
   "cell_type": "markdown",
   "metadata": {
    "colab_type": "text",
    "id": "ceXYqpjQa65q"
   },
   "source": [
    "You have hopefully got the value of $s$ from these analysis. Go ahead and store it in the variable <code>s</code> in the next cell."
   ]
  },
  {
   "cell_type": "code",
   "execution_count": 11,
   "metadata": {
    "colab": {},
    "colab_type": "code",
    "id": "w30ayU2Ta65q"
   },
   "outputs": [],
   "source": [
    "#Store your value for s here\n",
    "s = 3"
   ]
  },
  {
   "cell_type": "markdown",
   "metadata": {
    "colab_type": "text",
    "id": "KKk8FQBPa65s"
   },
   "source": [
    "Now you can go ahead and analyze the oracle for getting an idea of the value of $a$ and $b$. Another clue for figuring that out is that in the results for discrete logarithm, you should only get four possibilities and this should tell you the order of $a$ with respect to $15$."
   ]
  },
  {
   "cell_type": "code",
   "execution_count": 66,
   "metadata": {
    "colab": {},
    "colab_type": "code",
    "id": "8WqxaxZwa65t"
   },
   "outputs": [
    {
     "data": {
      "image/png": "[encoded data removed]",
      "text/plain": [
       "<Figure size 504x360 with 1 Axes>"
      ]
     },
     "execution_count": 66,
     "metadata": {},
     "output_type": "execute_result"
    }
   ],
   "source": [
    "qc_disc_log = QuantumCircuit(4+n_qubits+n_qubits, 4)\n",
    "\n",
    "#qc_disc_log.x(0)\n",
    "qc_disc_log.x(3)\n",
    "qc_disc_log.x(9)\n",
    "qc_disc_log.append(oracle(), [i for i in range(10)])\n",
    "\n",
    "qc_disc_log.measure(range(6,10),range(4))\n",
    "\n",
    "backend = Aer.get_backend('qasm_simulator')\n",
    "results = execute(qc_disc_log, backend, shots=8192).result()\n",
    "counts = results.get_counts()\n",
    "plot_histogram(counts)\n",
    "\n",
    "#on x1 = 1, output = 2 and for x2 = 1, output = 8"
   ]
  },
  {
   "cell_type": "markdown",
   "metadata": {
    "colab_type": "text",
    "id": "R82CKHHza65v"
   },
   "source": [
    "Now if you have figured out the values of $a$ and $b$ you can go ahead and store them in the variables <code>a, b</code> in the next cell"
   ]
  },
  {
   "cell_type": "code",
   "execution_count": 67,
   "metadata": {
    "colab": {},
    "colab_type": "code",
    "id": "0Rnrf4w-a65w"
   },
   "outputs": [],
   "source": [
    "#Store values of a and b here\n",
    "a, b = 2,8"
   ]
  },
  {
   "cell_type": "markdown",
   "metadata": {
    "colab_type": "text",
    "id": "6xevyTDca65y"
   },
   "source": [
    "You can now get your answers checked by running the below cell"
   ]
  },
  {
   "cell_type": "code",
   "execution_count": 68,
   "metadata": {
    "colab": {},
    "colab_type": "code",
    "id": "oLOG4Lx_a65y"
   },
   "outputs": [
    {
     "name": "stdout",
     "output_type": "stream",
     "text": [
      "All your values are correct :) You may go ahead and submit the notebook\n"
     ]
    }
   ],
   "source": [
    "check_answer(s,a,b)"
   ]
  }
 ],
 "metadata": {
  "colab": {
   "collapsed_sections": [],
   "name": "Final Question 1: Discrete Logarithm.ipynb",
   "provenance": []
  },
  "kernelspec": {
   "display_name": "Python 3",
   "language": "python",
   "name": "python3"
  },
  "language_info": {
   "codemirror_mode": {
    "name": "ipython",
    "version": 3
   },
   "file_extension": ".py",
   "mimetype": "text/x-python",
   "name": "python",
   "nbconvert_exporter": "python",
   "pygments_lexer": "ipython3",
   "version": "3.7.7"
  }
 },
 "nbformat": 4,
 "nbformat_minor": 1
}
